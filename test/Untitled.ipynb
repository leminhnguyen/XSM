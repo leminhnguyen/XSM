{
 "cells": [
  {
   "cell_type": "code",
   "execution_count": 2,
   "metadata": {},
   "outputs": [],
   "source": [
    "class A:\n",
    "    lst = [1,2,3]\n",
    "    \n",
    "class B(A):\n",
    "    lst = [4,5,6]"
   ]
  },
  {
   "cell_type": "code",
   "execution_count": 3,
   "metadata": {},
   "outputs": [
    {
     "output_type": "execute_result",
     "data": {
      "text/plain": "[4, 5, 6]"
     },
     "metadata": {},
     "execution_count": 3
    }
   ],
   "source": [
    "B.lst"
   ]
  },
  {
   "cell_type": "code",
   "execution_count": 4,
   "metadata": {},
   "outputs": [],
   "source": [
    "import sys\n",
    "sys.path.append(\"../source\")\n",
    "\n",
    "from XSM import XSM"
   ]
  },
  {
   "cell_type": "code",
   "execution_count": 135,
   "metadata": {},
   "outputs": [],
   "source": [
    "import pandas as pd \n",
    " \n",
    "dfs = pd.read_excel(\"../data/C2014-04.xlsx\", sheet_name=None, skiprows=1)\n"
   ]
  },
  {
   "cell_type": "code",
   "execution_count": 139,
   "metadata": {},
   "outputs": [
    {
     "output_type": "stream",
     "name": "stdout",
     "text": "521\n21\n20\n22\n20\n21\n21\n20\n22\n19\n21\n20\n22\n20\n21\n22\n19\n22\n21\n20\n22\n19\n20\n21\n21\n"
    }
   ],
   "source": [
    "import numpy as np\n",
    "\n",
    "duration = 0\n",
    "for start, end in zip(dfs['Baseline Schedule'][\"Baseline Start\"], dfs['Baseline Schedule'][\"Baseline End\"]):\n",
    "    print(np.busday_count(start.date(), end.date()))\n",
    "    duration += np.busday_count(start.date(), end.date())"
   ]
  },
  {
   "cell_type": "code",
   "execution_count": 137,
   "metadata": {},
   "outputs": [
    {
     "output_type": "execute_result",
     "data": {
      "text/plain": "497"
     },
     "metadata": {},
     "execution_count": 137
    }
   ],
   "source": [
    "duration"
   ]
  },
  {
   "cell_type": "code",
   "execution_count": 141,
   "metadata": {},
   "outputs": [
    {
     "output_type": "execute_result",
     "data": {
      "text/plain": "0    2006-06-30 17:00:00\n1    2006-07-31 17:00:00\n2    2006-08-31 17:00:00\n3    2006-09-30 17:00:00\n4    2006-10-31 17:00:00\n5    2006-11-30 17:00:00\n6    2006-12-31 17:00:00\n7    2007-01-31 17:00:00\n8    2007-02-28 17:00:00\n9    2007-03-31 17:00:00\n10   2007-04-30 17:00:00\n11   2007-05-31 17:00:00\n12   2007-06-30 17:00:00\n13   2007-07-31 17:00:00\n14   2007-08-31 17:00:00\n15   2007-09-30 17:00:00\n16   2007-10-31 17:00:00\n17   2007-11-30 17:00:00\n18   2007-12-31 17:00:00\n19   2008-01-31 17:00:00\n20   2008-02-29 17:00:00\n21   2008-03-31 17:00:00\n22   2008-04-30 17:00:00\n23   2008-05-31 17:00:00\n24   2008-06-30 17:00:00\n25   2008-07-31 17:00:00\n26   2008-08-31 17:00:00\n27   2008-09-30 17:00:00\n28   2008-10-31 17:00:00\n29   2008-11-30 17:00:00\n30   2008-12-31 17:00:00\n31   2009-01-31 17:00:00\n32   2009-02-28 17:00:00\n33   2009-06-30 17:00:00\n34   2009-07-31 17:00:00\n35   2009-08-31 17:00:00\nName: Status date, dtype: datetime64[ns]"
     },
     "metadata": {},
     "execution_count": 141
    }
   ],
   "source": [
    "dfs[\"Tracking Overview\"][\"Status date\"]"
   ]
  },
  {
   "cell_type": "code",
   "execution_count": null,
   "metadata": {},
   "outputs": [],
   "source": [
    "lst = [\n",
    "0.650,\n",
    "0.118,\n",
    "0.000,\n",
    "0.065,\n",
    "0.000,\n",
    "0.023,\n",
    "0.000,\n",
    "0.000,\n",
    "0.129,\n",
    "0.062,\n",
    "0.000,\n",
    "0.691,\n",
    "0.853,\n",
    "0.000,\n",
    "0.085,\n",
    "0.130,\n",
    "0.000,\n",
    "0.159,\n",
    "0.188,\n",
    "0.106,\n",
    "0.028,\n",
    "0.093,\n",
    "0.666]"
   ]
  }
 ],
 "metadata": {
  "kernelspec": {
   "display_name": "Python 3",
   "language": "python",
   "name": "python3"
  },
  "language_info": {
   "codemirror_mode": {
    "name": "ipython",
    "version": 3
   },
   "file_extension": ".py",
   "mimetype": "text/x-python",
   "name": "python",
   "nbconvert_exporter": "python",
   "pygments_lexer": "ipython3",
   "version": "3.7.6-final"
  }
 },
 "nbformat": 4,
 "nbformat_minor": 4
}